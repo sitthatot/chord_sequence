{
 "cells": [
  {
   "cell_type": "code",
   "execution_count": 42,
   "metadata": {},
   "outputs": [
    {
     "name": "stdout",
     "output_type": "stream",
     "text": [
      "Combined MIDI saved as: combined_output_single_track.mid\n"
     ]
    }
   ],
   "source": [
    "import os\n",
    "import mido\n",
    "\n",
    "def adjust_length(msg, factor):\n",
    "    \"\"\"Adjust the length of MIDI messages based on a length factor.\"\"\"\n",
    "    if msg.type in ['note_on', 'note_off']:\n",
    "        msg.time = int(msg.time * factor)\n",
    "    return msg\n",
    "\n",
    "def concat_midi_files_single_track(directory, length_factors, output_file):\n",
    "    combined_midi = mido.MidiFile()\n",
    "    combined_track = mido.MidiTrack()\n",
    "    \n",
    "    for midi_file in length_factors.keys():\n",
    "        midi_path = os.path.join(directory, midi_file)\n",
    "        midi = mido.MidiFile(midi_path)\n",
    "        length_factor = length_factors[midi_file]\n",
    "        \n",
    "        for track in midi.tracks:\n",
    "            for msg in track:\n",
    "                combined_track.append(adjust_length(msg.copy(), length_factor))\n",
    "    \n",
    "    combined_midi.tracks.append(combined_track)\n",
    "    combined_midi.save(output_file)\n",
    "    print(f\"Combined MIDI saved as: {output_file}\")\n",
    "\n",
    "if __name__ == \"__main__\":\n",
    "    # Specify the directory containing MIDI files\n",
    "    directory = 'chords_midi'  # Your MIDI files should be in this folder\n",
    "    \n",
    "    # Define length factors for each MIDI file\n",
    "    length_factors = {\n",
    "        'A.mid': 1,          # Normal length\n",
    "        'A#7sus4.mid': 0.5,  # Shorten (divide by 2)\n",
    "        'B.mid': 2           # Lengthen (multiply by 2)\n",
    "    }\n",
    "    \n",
    "    # Define the output filename\n",
    "    output_file = 'combined_output_single_track.mid'\n",
    "    \n",
    "    # Concatenate the MIDI files into a single track\n",
    "    concat_midi_files_single_track(directory, length_factors, output_file)\n"
   ]
  }
 ],
 "metadata": {
  "kernelspec": {
   "display_name": "Python 3",
   "language": "python",
   "name": "python3"
  },
  "language_info": {
   "codemirror_mode": {
    "name": "ipython",
    "version": 3
   },
   "file_extension": ".py",
   "mimetype": "text/x-python",
   "name": "python",
   "nbconvert_exporter": "python",
   "pygments_lexer": "ipython3",
   "version": "3.10.5"
  }
 },
 "nbformat": 4,
 "nbformat_minor": 2
}
